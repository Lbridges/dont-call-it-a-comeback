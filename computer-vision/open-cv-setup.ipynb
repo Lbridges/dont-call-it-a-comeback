{
 "cells": [
  {
   "cell_type": "markdown",
   "metadata": {},
   "source": [
    "## Installing OpenCV in Windows\n",
    "\n",
    "#### Two installation options:\n",
    " - Pre-built Libraries\n",
    " - Making Your Own Libraries from Source Files\n",
    " \n",
    "#### Pre-built LIbraries\n",
    "1. go to [Sourceforge](https://sourceforge.net/projects/opencvlibrary/files/opencv-win/)\n",
    "\n",
    "2. choose your build\n",
    " \n",
    "3. unpack archive\n",
    "\n",
    "4. check installation at chosen path\n",
    "\n",
    "5. [set openCV environment variable](https://docs.opencv.org/master/d3/d52/tutorial_windows_install.html#tutorial_windows_install_path) and add it to system path\n",
    "  "
   ]
  },
  {
   "cell_type": "markdown",
   "metadata": {},
   "source": [
    "_Windows 10, Visual Studio 2019 (community edition), "
   ]
  },
  {
   "cell_type": "markdown",
   "metadata": {},
   "source": [
    "Can I run other commands in anaconda prompt if I have a jupyter notebook running?"
   ]
  },
  {
   "cell_type": "markdown",
   "metadata": {},
   "source": [
    "### Vocab list from this setup\n",
    "- __Dynamic-link Libraries (DLL)__  \n",
    "    - Microsoft's implementation of the shared library concept in the Microsoft Windows and S/2 operating system. These libraries usually have the extension DLL, OCX, or DRV.  \n",
    "    - a collection of small programs that can be loaded when needed by larger programs and used at the same time."
   ]
  },
  {
   "cell_type": "code",
   "execution_count": null,
   "metadata": {},
   "outputs": [],
   "source": []
  }
 ],
 "metadata": {
  "kernelspec": {
   "display_name": "Python 3",
   "language": "python",
   "name": "python3"
  },
  "language_info": {
   "codemirror_mode": {
    "name": "ipython",
    "version": 3
   },
   "file_extension": ".py",
   "mimetype": "text/x-python",
   "name": "python",
   "nbconvert_exporter": "python",
   "pygments_lexer": "ipython3",
   "version": "3.7.3"
  }
 },
 "nbformat": 4,
 "nbformat_minor": 2
}
